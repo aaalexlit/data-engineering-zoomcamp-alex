{
 "cells": [
  {
   "cell_type": "markdown",
   "id": "4d98edff-eb4e-45b9-9dc2-3077d0229b42",
   "metadata": {},
   "source": [
    "# Upload existing directory to the GCS bucket"
   ]
  },
  {
   "cell_type": "code",
   "execution_count": 5,
   "id": "ebc7c9cd-937b-419e-9c8e-624ab5735449",
   "metadata": {},
   "outputs": [],
   "source": [
    "from google.cloud import storage\n",
    "import os\n",
    "\n",
    "os.environ[\"GOOGLE_APPLICATION_CREDENTIALS\"] = '../terraform/credentials.json'"
   ]
  },
  {
   "cell_type": "code",
   "execution_count": 6,
   "id": "f581a40e-8440-4835-8de2-f4eaae3bb220",
   "metadata": {},
   "outputs": [],
   "source": [
    "def upload_directory_to_gcs(local_directory, bucket_name):\n",
    "    # Initialize Google Cloud Storage client\n",
    "    client = storage.Client()\n",
    "\n",
    "    # Get the bucket\n",
    "    bucket = client.bucket(bucket_name)\n",
    "\n",
    "    # Iterate through files in the local directory\n",
    "    for root, dirs, files in os.walk(local_directory):\n",
    "        for file in files:\n",
    "            # Get the local file path\n",
    "            local_file_path = os.path.join(root, file)\n",
    "\n",
    "            # Construct the destination blob name by removing the local directory path\n",
    "            destination_blob_name = os.path.relpath(local_file_path, local_directory)\n",
    "\n",
    "            # Create blob object\n",
    "            blob = bucket.blob(destination_blob_name)\n",
    "\n",
    "            # Upload the file\n",
    "            blob.upload_from_filename(local_file_path)\n",
    "\n",
    "            print(f\"Uploaded {local_file_path} to {bucket_name}/{destination_blob_name}\")\n"
   ]
  },
  {
   "cell_type": "code",
   "execution_count": 7,
   "id": "4c9a39de-f0ae-4cfe-814e-e426d9640396",
   "metadata": {},
   "outputs": [
    {
     "name": "stdout",
     "output_type": "stream",
     "text": [
      "Uploaded fhvhv/2021/01/part-00019-3701bd1c-87e1-4837-b98f-d44d1e7a0372-c000.snappy.parquet to de-zoomcamp-2024-alex-bucket/2021/01/part-00019-3701bd1c-87e1-4837-b98f-d44d1e7a0372-c000.snappy.parquet\n",
      "Uploaded fhvhv/2021/01/.part-00016-3701bd1c-87e1-4837-b98f-d44d1e7a0372-c000.snappy.parquet.crc to de-zoomcamp-2024-alex-bucket/2021/01/.part-00016-3701bd1c-87e1-4837-b98f-d44d1e7a0372-c000.snappy.parquet.crc\n",
      "Uploaded fhvhv/2021/01/part-00005-3701bd1c-87e1-4837-b98f-d44d1e7a0372-c000.snappy.parquet to de-zoomcamp-2024-alex-bucket/2021/01/part-00005-3701bd1c-87e1-4837-b98f-d44d1e7a0372-c000.snappy.parquet\n",
      "Uploaded fhvhv/2021/01/part-00012-3701bd1c-87e1-4837-b98f-d44d1e7a0372-c000.snappy.parquet to de-zoomcamp-2024-alex-bucket/2021/01/part-00012-3701bd1c-87e1-4837-b98f-d44d1e7a0372-c000.snappy.parquet\n",
      "Uploaded fhvhv/2021/01/.part-00007-3701bd1c-87e1-4837-b98f-d44d1e7a0372-c000.snappy.parquet.crc to de-zoomcamp-2024-alex-bucket/2021/01/.part-00007-3701bd1c-87e1-4837-b98f-d44d1e7a0372-c000.snappy.parquet.crc\n",
      "Uploaded fhvhv/2021/01/part-00023-3701bd1c-87e1-4837-b98f-d44d1e7a0372-c000.snappy.parquet to de-zoomcamp-2024-alex-bucket/2021/01/part-00023-3701bd1c-87e1-4837-b98f-d44d1e7a0372-c000.snappy.parquet\n",
      "Uploaded fhvhv/2021/01/.part-00019-3701bd1c-87e1-4837-b98f-d44d1e7a0372-c000.snappy.parquet.crc to de-zoomcamp-2024-alex-bucket/2021/01/.part-00019-3701bd1c-87e1-4837-b98f-d44d1e7a0372-c000.snappy.parquet.crc\n",
      "Uploaded fhvhv/2021/01/part-00002-3701bd1c-87e1-4837-b98f-d44d1e7a0372-c000.snappy.parquet to de-zoomcamp-2024-alex-bucket/2021/01/part-00002-3701bd1c-87e1-4837-b98f-d44d1e7a0372-c000.snappy.parquet\n",
      "Uploaded fhvhv/2021/01/.part-00004-3701bd1c-87e1-4837-b98f-d44d1e7a0372-c000.snappy.parquet.crc to de-zoomcamp-2024-alex-bucket/2021/01/.part-00004-3701bd1c-87e1-4837-b98f-d44d1e7a0372-c000.snappy.parquet.crc\n",
      "Uploaded fhvhv/2021/01/.part-00015-3701bd1c-87e1-4837-b98f-d44d1e7a0372-c000.snappy.parquet.crc to de-zoomcamp-2024-alex-bucket/2021/01/.part-00015-3701bd1c-87e1-4837-b98f-d44d1e7a0372-c000.snappy.parquet.crc\n",
      "Uploaded fhvhv/2021/01/part-00009-3701bd1c-87e1-4837-b98f-d44d1e7a0372-c000.snappy.parquet to de-zoomcamp-2024-alex-bucket/2021/01/part-00009-3701bd1c-87e1-4837-b98f-d44d1e7a0372-c000.snappy.parquet\n",
      "Uploaded fhvhv/2021/01/.part-00008-3701bd1c-87e1-4837-b98f-d44d1e7a0372-c000.snappy.parquet.crc to de-zoomcamp-2024-alex-bucket/2021/01/.part-00008-3701bd1c-87e1-4837-b98f-d44d1e7a0372-c000.snappy.parquet.crc\n",
      "Uploaded fhvhv/2021/01/part-00015-3701bd1c-87e1-4837-b98f-d44d1e7a0372-c000.snappy.parquet to de-zoomcamp-2024-alex-bucket/2021/01/part-00015-3701bd1c-87e1-4837-b98f-d44d1e7a0372-c000.snappy.parquet\n",
      "Uploaded fhvhv/2021/01/part-00022-3701bd1c-87e1-4837-b98f-d44d1e7a0372-c000.snappy.parquet to de-zoomcamp-2024-alex-bucket/2021/01/part-00022-3701bd1c-87e1-4837-b98f-d44d1e7a0372-c000.snappy.parquet\n",
      "Uploaded fhvhv/2021/01/._SUCCESS.crc to de-zoomcamp-2024-alex-bucket/2021/01/._SUCCESS.crc\n",
      "Uploaded fhvhv/2021/01/.part-00023-3701bd1c-87e1-4837-b98f-d44d1e7a0372-c000.snappy.parquet.crc to de-zoomcamp-2024-alex-bucket/2021/01/.part-00023-3701bd1c-87e1-4837-b98f-d44d1e7a0372-c000.snappy.parquet.crc\n",
      "Uploaded fhvhv/2021/01/part-00003-3701bd1c-87e1-4837-b98f-d44d1e7a0372-c000.snappy.parquet to de-zoomcamp-2024-alex-bucket/2021/01/part-00003-3701bd1c-87e1-4837-b98f-d44d1e7a0372-c000.snappy.parquet\n",
      "Uploaded fhvhv/2021/01/.part-00000-3701bd1c-87e1-4837-b98f-d44d1e7a0372-c000.snappy.parquet.crc to de-zoomcamp-2024-alex-bucket/2021/01/.part-00000-3701bd1c-87e1-4837-b98f-d44d1e7a0372-c000.snappy.parquet.crc\n",
      "Uploaded fhvhv/2021/01/.part-00011-3701bd1c-87e1-4837-b98f-d44d1e7a0372-c000.snappy.parquet.crc to de-zoomcamp-2024-alex-bucket/2021/01/.part-00011-3701bd1c-87e1-4837-b98f-d44d1e7a0372-c000.snappy.parquet.crc\n",
      "Uploaded fhvhv/2021/01/part-00008-3701bd1c-87e1-4837-b98f-d44d1e7a0372-c000.snappy.parquet to de-zoomcamp-2024-alex-bucket/2021/01/part-00008-3701bd1c-87e1-4837-b98f-d44d1e7a0372-c000.snappy.parquet\n",
      "Uploaded fhvhv/2021/01/part-00014-3701bd1c-87e1-4837-b98f-d44d1e7a0372-c000.snappy.parquet to de-zoomcamp-2024-alex-bucket/2021/01/part-00014-3701bd1c-87e1-4837-b98f-d44d1e7a0372-c000.snappy.parquet\n",
      "Uploaded fhvhv/2021/01/part-00018-3701bd1c-87e1-4837-b98f-d44d1e7a0372-c000.snappy.parquet to de-zoomcamp-2024-alex-bucket/2021/01/part-00018-3701bd1c-87e1-4837-b98f-d44d1e7a0372-c000.snappy.parquet\n",
      "Uploaded fhvhv/2021/01/.part-00012-3701bd1c-87e1-4837-b98f-d44d1e7a0372-c000.snappy.parquet.crc to de-zoomcamp-2024-alex-bucket/2021/01/.part-00012-3701bd1c-87e1-4837-b98f-d44d1e7a0372-c000.snappy.parquet.crc\n",
      "Uploaded fhvhv/2021/01/part-00004-3701bd1c-87e1-4837-b98f-d44d1e7a0372-c000.snappy.parquet to de-zoomcamp-2024-alex-bucket/2021/01/part-00004-3701bd1c-87e1-4837-b98f-d44d1e7a0372-c000.snappy.parquet\n",
      "Uploaded fhvhv/2021/01/.part-00020-3701bd1c-87e1-4837-b98f-d44d1e7a0372-c000.snappy.parquet.crc to de-zoomcamp-2024-alex-bucket/2021/01/.part-00020-3701bd1c-87e1-4837-b98f-d44d1e7a0372-c000.snappy.parquet.crc\n",
      "Uploaded fhvhv/2021/01/part-00013-3701bd1c-87e1-4837-b98f-d44d1e7a0372-c000.snappy.parquet to de-zoomcamp-2024-alex-bucket/2021/01/part-00013-3701bd1c-87e1-4837-b98f-d44d1e7a0372-c000.snappy.parquet\n",
      "Uploaded fhvhv/2021/01/.part-00003-3701bd1c-87e1-4837-b98f-d44d1e7a0372-c000.snappy.parquet.crc to de-zoomcamp-2024-alex-bucket/2021/01/.part-00003-3701bd1c-87e1-4837-b98f-d44d1e7a0372-c000.snappy.parquet.crc\n",
      "Uploaded fhvhv/2021/01/part-00020-3701bd1c-87e1-4837-b98f-d44d1e7a0372-c000.snappy.parquet to de-zoomcamp-2024-alex-bucket/2021/01/part-00020-3701bd1c-87e1-4837-b98f-d44d1e7a0372-c000.snappy.parquet\n",
      "Uploaded fhvhv/2021/01/.part-00017-3701bd1c-87e1-4837-b98f-d44d1e7a0372-c000.snappy.parquet.crc to de-zoomcamp-2024-alex-bucket/2021/01/.part-00017-3701bd1c-87e1-4837-b98f-d44d1e7a0372-c000.snappy.parquet.crc\n",
      "Uploaded fhvhv/2021/01/part-00001-3701bd1c-87e1-4837-b98f-d44d1e7a0372-c000.snappy.parquet to de-zoomcamp-2024-alex-bucket/2021/01/part-00001-3701bd1c-87e1-4837-b98f-d44d1e7a0372-c000.snappy.parquet\n",
      "Uploaded fhvhv/2021/01/.part-00006-3701bd1c-87e1-4837-b98f-d44d1e7a0372-c000.snappy.parquet.crc to de-zoomcamp-2024-alex-bucket/2021/01/.part-00006-3701bd1c-87e1-4837-b98f-d44d1e7a0372-c000.snappy.parquet.crc\n",
      "Uploaded fhvhv/2021/01/part-00016-3701bd1c-87e1-4837-b98f-d44d1e7a0372-c000.snappy.parquet to de-zoomcamp-2024-alex-bucket/2021/01/part-00016-3701bd1c-87e1-4837-b98f-d44d1e7a0372-c000.snappy.parquet\n",
      "Uploaded fhvhv/2021/01/.part-00018-3701bd1c-87e1-4837-b98f-d44d1e7a0372-c000.snappy.parquet.crc to de-zoomcamp-2024-alex-bucket/2021/01/.part-00018-3701bd1c-87e1-4837-b98f-d44d1e7a0372-c000.snappy.parquet.crc\n",
      "Uploaded fhvhv/2021/01/part-00006-3701bd1c-87e1-4837-b98f-d44d1e7a0372-c000.snappy.parquet to de-zoomcamp-2024-alex-bucket/2021/01/part-00006-3701bd1c-87e1-4837-b98f-d44d1e7a0372-c000.snappy.parquet\n",
      "Uploaded fhvhv/2021/01/.part-00005-3701bd1c-87e1-4837-b98f-d44d1e7a0372-c000.snappy.parquet.crc to de-zoomcamp-2024-alex-bucket/2021/01/.part-00005-3701bd1c-87e1-4837-b98f-d44d1e7a0372-c000.snappy.parquet.crc\n",
      "Uploaded fhvhv/2021/01/.part-00014-3701bd1c-87e1-4837-b98f-d44d1e7a0372-c000.snappy.parquet.crc to de-zoomcamp-2024-alex-bucket/2021/01/.part-00014-3701bd1c-87e1-4837-b98f-d44d1e7a0372-c000.snappy.parquet.crc\n",
      "Uploaded fhvhv/2021/01/part-00011-3701bd1c-87e1-4837-b98f-d44d1e7a0372-c000.snappy.parquet to de-zoomcamp-2024-alex-bucket/2021/01/part-00011-3701bd1c-87e1-4837-b98f-d44d1e7a0372-c000.snappy.parquet\n",
      "Uploaded fhvhv/2021/01/.part-00009-3701bd1c-87e1-4837-b98f-d44d1e7a0372-c000.snappy.parquet.crc to de-zoomcamp-2024-alex-bucket/2021/01/.part-00009-3701bd1c-87e1-4837-b98f-d44d1e7a0372-c000.snappy.parquet.crc\n",
      "Uploaded fhvhv/2021/01/part-00007-3701bd1c-87e1-4837-b98f-d44d1e7a0372-c000.snappy.parquet to de-zoomcamp-2024-alex-bucket/2021/01/part-00007-3701bd1c-87e1-4837-b98f-d44d1e7a0372-c000.snappy.parquet\n",
      "Uploaded fhvhv/2021/01/_SUCCESS to de-zoomcamp-2024-alex-bucket/2021/01/_SUCCESS\n",
      "Uploaded fhvhv/2021/01/.part-00022-3701bd1c-87e1-4837-b98f-d44d1e7a0372-c000.snappy.parquet.crc to de-zoomcamp-2024-alex-bucket/2021/01/.part-00022-3701bd1c-87e1-4837-b98f-d44d1e7a0372-c000.snappy.parquet.crc\n",
      "Uploaded fhvhv/2021/01/.part-00001-3701bd1c-87e1-4837-b98f-d44d1e7a0372-c000.snappy.parquet.crc to de-zoomcamp-2024-alex-bucket/2021/01/.part-00001-3701bd1c-87e1-4837-b98f-d44d1e7a0372-c000.snappy.parquet.crc\n",
      "Uploaded fhvhv/2021/01/.part-00010-3701bd1c-87e1-4837-b98f-d44d1e7a0372-c000.snappy.parquet.crc to de-zoomcamp-2024-alex-bucket/2021/01/.part-00010-3701bd1c-87e1-4837-b98f-d44d1e7a0372-c000.snappy.parquet.crc\n",
      "Uploaded fhvhv/2021/01/part-00010-3701bd1c-87e1-4837-b98f-d44d1e7a0372-c000.snappy.parquet to de-zoomcamp-2024-alex-bucket/2021/01/part-00010-3701bd1c-87e1-4837-b98f-d44d1e7a0372-c000.snappy.parquet\n",
      "Uploaded fhvhv/2021/01/part-00021-3701bd1c-87e1-4837-b98f-d44d1e7a0372-c000.snappy.parquet to de-zoomcamp-2024-alex-bucket/2021/01/part-00021-3701bd1c-87e1-4837-b98f-d44d1e7a0372-c000.snappy.parquet\n",
      "Uploaded fhvhv/2021/01/.part-00013-3701bd1c-87e1-4837-b98f-d44d1e7a0372-c000.snappy.parquet.crc to de-zoomcamp-2024-alex-bucket/2021/01/.part-00013-3701bd1c-87e1-4837-b98f-d44d1e7a0372-c000.snappy.parquet.crc\n",
      "Uploaded fhvhv/2021/01/part-00000-3701bd1c-87e1-4837-b98f-d44d1e7a0372-c000.snappy.parquet to de-zoomcamp-2024-alex-bucket/2021/01/part-00000-3701bd1c-87e1-4837-b98f-d44d1e7a0372-c000.snappy.parquet\n",
      "Uploaded fhvhv/2021/01/.part-00021-3701bd1c-87e1-4837-b98f-d44d1e7a0372-c000.snappy.parquet.crc to de-zoomcamp-2024-alex-bucket/2021/01/.part-00021-3701bd1c-87e1-4837-b98f-d44d1e7a0372-c000.snappy.parquet.crc\n",
      "Uploaded fhvhv/2021/01/.part-00002-3701bd1c-87e1-4837-b98f-d44d1e7a0372-c000.snappy.parquet.crc to de-zoomcamp-2024-alex-bucket/2021/01/.part-00002-3701bd1c-87e1-4837-b98f-d44d1e7a0372-c000.snappy.parquet.crc\n",
      "Uploaded fhvhv/2021/01/part-00017-3701bd1c-87e1-4837-b98f-d44d1e7a0372-c000.snappy.parquet to de-zoomcamp-2024-alex-bucket/2021/01/part-00017-3701bd1c-87e1-4837-b98f-d44d1e7a0372-c000.snappy.parquet\n"
     ]
    }
   ],
   "source": [
    "upload_directory_to_gcs(\"fhvhv\", \"de-zoomcamp-2024-alex-bucket\")\n"
   ]
  },
  {
   "cell_type": "code",
   "execution_count": null,
   "id": "db9e2e58-98cc-4889-beba-2fa44eeec7ea",
   "metadata": {},
   "outputs": [],
   "source": []
  },
  {
   "cell_type": "code",
   "execution_count": null,
   "id": "d2683a3e-6ec4-414e-a582-800090e37ed1",
   "metadata": {},
   "outputs": [],
   "source": []
  }
 ],
 "metadata": {
  "kernelspec": {
   "display_name": "Python 3 (ipykernel)",
   "language": "python",
   "name": "python3"
  },
  "language_info": {
   "codemirror_mode": {
    "name": "ipython",
    "version": 3
   },
   "file_extension": ".py",
   "mimetype": "text/x-python",
   "name": "python",
   "nbconvert_exporter": "python",
   "pygments_lexer": "ipython3",
   "version": "3.11.7"
  }
 },
 "nbformat": 4,
 "nbformat_minor": 5
}
